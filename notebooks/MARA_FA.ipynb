{
 "cells": [
  {
   "cell_type": "markdown",
   "id": "366aa875",
   "metadata": {},
   "source": [
    "# Quantitative Fundamental Analysis 1"
   ]
  },
  {
   "cell_type": "markdown",
   "id": "ffc5772c",
   "metadata": {},
   "source": [
    "Fundamental analysis (FA) is a method of measuring a security's intrinsic value by examining related economic and financial factors. Fundamental analysts study anything that can affect the security's value, from macroeconomic factors such as the state of the economy and industry conditions to microeconomic factors like the effectiveness of the company's management.The end goal is to arrive at a number that an investor can compare with a security's current price in order to see whether the security is undervalued or overvalued.\n",
    "\n",
    "This method of stock analysis is considered to be in contrast to technical analysis, which forecasts the direction of prices through an analysis of historical market data such as price and volume."
   ]
  },
  {
   "cell_type": "markdown",
   "id": "2a48598e",
   "metadata": {},
   "source": [
    "## Quantitative FA\n",
    "\n",
    "Quantitative fundamentals are hard numbers. They are the measurable characteristics of a business. That's why the biggest source of quantitative data is financial statements. Revenue, profit, assets, and more can be measured with great precision."
   ]
  },
  {
   "cell_type": "code",
   "execution_count": 4,
   "id": "871f6026",
   "metadata": {},
   "outputs": [],
   "source": [
    "# Importing Library necessary for the project\n",
    "import numpy as np\n",
    "import pandas as pd\n",
    "from pylab import plt, mpl\n",
    "plt.style.use('seaborn-v0_8')\n",
    "mpl.rcParams['savefig.dpi'] = 300\n",
    "mpl.rcParams['font.family'] = 'serif'\n",
    "np.set_printoptions(precision=5, suppress=True,formatter={'float': lambda x: f'{x:6.3f}'})\n",
    "import yfinance as yf"
   ]
  },
  {
   "cell_type": "markdown",
   "id": "7e1d8e16",
   "metadata": {},
   "source": [
    "Now lets scrape wikipedia page to get all the ticker symbols of Dow Jones Industrial Average"
   ]
  },
  {
   "cell_type": "code",
   "execution_count": 6,
   "id": "0b582831",
   "metadata": {},
   "outputs": [],
   "source": [
    "infos = []\n",
    "tickers = ['MARA']\n",
    "for tick in tickers:\n",
    "    infos.append(yf.Ticker(tick).info)\n",
    "\n",
    "infos = pd.DataFrame(infos)"
   ]
  },
  {
   "cell_type": "code",
   "execution_count": 7,
   "id": "760b899d",
   "metadata": {},
   "outputs": [
    {
     "data": {
      "text/html": [
       "<div>\n",
       "<style scoped>\n",
       "    .dataframe tbody tr th:only-of-type {\n",
       "        vertical-align: middle;\n",
       "    }\n",
       "\n",
       "    .dataframe tbody tr th {\n",
       "        vertical-align: top;\n",
       "    }\n",
       "\n",
       "    .dataframe thead th {\n",
       "        text-align: right;\n",
       "    }\n",
       "</style>\n",
       "<table border=\"1\" class=\"dataframe\">\n",
       "  <thead>\n",
       "    <tr style=\"text-align: right;\">\n",
       "      <th></th>\n",
       "      <th>address1</th>\n",
       "      <th>address2</th>\n",
       "      <th>city</th>\n",
       "      <th>state</th>\n",
       "      <th>zip</th>\n",
       "      <th>country</th>\n",
       "      <th>phone</th>\n",
       "      <th>website</th>\n",
       "      <th>industry</th>\n",
       "      <th>industryKey</th>\n",
       "      <th>...</th>\n",
       "      <th>returnOnAssets</th>\n",
       "      <th>returnOnEquity</th>\n",
       "      <th>freeCashflow</th>\n",
       "      <th>operatingCashflow</th>\n",
       "      <th>revenueGrowth</th>\n",
       "      <th>grossMargins</th>\n",
       "      <th>ebitdaMargins</th>\n",
       "      <th>operatingMargins</th>\n",
       "      <th>financialCurrency</th>\n",
       "      <th>trailingPegRatio</th>\n",
       "    </tr>\n",
       "    <tr>\n",
       "      <th>symbol</th>\n",
       "      <th></th>\n",
       "      <th></th>\n",
       "      <th></th>\n",
       "      <th></th>\n",
       "      <th></th>\n",
       "      <th></th>\n",
       "      <th></th>\n",
       "      <th></th>\n",
       "      <th></th>\n",
       "      <th></th>\n",
       "      <th></th>\n",
       "      <th></th>\n",
       "      <th></th>\n",
       "      <th></th>\n",
       "      <th></th>\n",
       "      <th></th>\n",
       "      <th></th>\n",
       "      <th></th>\n",
       "      <th></th>\n",
       "      <th></th>\n",
       "      <th></th>\n",
       "    </tr>\n",
       "  </thead>\n",
       "  <tbody>\n",
       "    <tr>\n",
       "      <th>MARA</th>\n",
       "      <td>101 NE Third Avenue</td>\n",
       "      <td>Suite 1200</td>\n",
       "      <td>Fort Lauderdale</td>\n",
       "      <td>FL</td>\n",
       "      <td>33301</td>\n",
       "      <td>United States</td>\n",
       "      <td>800-804-1690</td>\n",
       "      <td>https://www.marathondh.com</td>\n",
       "      <td>Capital Markets</td>\n",
       "      <td>capital-markets</td>\n",
       "      <td>...</td>\n",
       "      <td>0.08667</td>\n",
       "      <td>0.26093</td>\n",
       "      <td>-330427360</td>\n",
       "      <td>-315651008</td>\n",
       "      <td>4.517</td>\n",
       "      <td>0.42366</td>\n",
       "      <td>1.03333</td>\n",
       "      <td>1.63708</td>\n",
       "      <td>USD</td>\n",
       "      <td>None</td>\n",
       "    </tr>\n",
       "  </tbody>\n",
       "</table>\n",
       "<p>1 rows × 120 columns</p>\n",
       "</div>"
      ],
      "text/plain": [
       "                   address1    address2             city state    zip  \\\n",
       "symbol                                                                  \n",
       "MARA    101 NE Third Avenue  Suite 1200  Fort Lauderdale    FL  33301   \n",
       "\n",
       "              country         phone                     website  \\\n",
       "symbol                                                            \n",
       "MARA    United States  800-804-1690  https://www.marathondh.com   \n",
       "\n",
       "               industry      industryKey  ... returnOnAssets returnOnEquity  \\\n",
       "symbol                                    ...                                 \n",
       "MARA    Capital Markets  capital-markets  ...        0.08667        0.26093   \n",
       "\n",
       "       freeCashflow operatingCashflow revenueGrowth  grossMargins  \\\n",
       "symbol                                                              \n",
       "MARA     -330427360        -315651008         4.517       0.42366   \n",
       "\n",
       "       ebitdaMargins  operatingMargins  financialCurrency  trailingPegRatio  \n",
       "symbol                                                                       \n",
       "MARA         1.03333           1.63708                USD              None  \n",
       "\n",
       "[1 rows x 120 columns]"
      ]
     },
     "execution_count": 7,
     "metadata": {},
     "output_type": "execute_result"
    }
   ],
   "source": [
    "infos = infos.set_index('symbol')\n",
    "infos"
   ]
  },
  {
   "cell_type": "markdown",
   "id": "e9bede28",
   "metadata": {},
   "source": [
    "Now we have the basic fundamental data about the stocks in the DOW jones industrial average. Lets figure out the columns that are interesting for analysis."
   ]
  },
  {
   "cell_type": "code",
   "execution_count": 8,
   "id": "1794ae28",
   "metadata": {},
   "outputs": [
    {
     "name": "stdout",
     "output_type": "stream",
     "text": [
      "address1\n",
      "address2\n",
      "city\n",
      "state\n",
      "zip\n",
      "country\n",
      "phone\n",
      "website\n",
      "industry\n",
      "industryKey\n",
      "industryDisp\n",
      "sector\n",
      "sectorKey\n",
      "sectorDisp\n",
      "longBusinessSummary\n",
      "fullTimeEmployees\n",
      "companyOfficers\n",
      "auditRisk\n",
      "boardRisk\n",
      "compensationRisk\n",
      "shareHolderRightsRisk\n",
      "overallRisk\n",
      "governanceEpochDate\n",
      "compensationAsOfEpochDate\n",
      "maxAge\n",
      "priceHint\n",
      "previousClose\n",
      "open\n",
      "dayLow\n",
      "dayHigh\n",
      "regularMarketPreviousClose\n",
      "regularMarketOpen\n",
      "regularMarketDayLow\n",
      "regularMarketDayHigh\n",
      "beta\n",
      "trailingPE\n",
      "forwardPE\n",
      "volume\n",
      "regularMarketVolume\n",
      "averageVolume\n",
      "averageVolume10days\n",
      "averageDailyVolume10Day\n",
      "bid\n",
      "ask\n",
      "bidSize\n",
      "askSize\n",
      "marketCap\n",
      "fiftyTwoWeekLow\n",
      "fiftyTwoWeekHigh\n",
      "priceToSalesTrailing12Months\n",
      "fiftyDayAverage\n",
      "twoHundredDayAverage\n",
      "currency\n",
      "enterpriseValue\n",
      "profitMargins\n",
      "floatShares\n",
      "sharesOutstanding\n",
      "sharesShort\n",
      "sharesShortPriorMonth\n",
      "sharesShortPreviousMonthDate\n",
      "dateShortInterest\n",
      "sharesPercentSharesOut\n",
      "heldPercentInsiders\n",
      "heldPercentInstitutions\n",
      "shortRatio\n",
      "shortPercentOfFloat\n",
      "impliedSharesOutstanding\n",
      "bookValue\n",
      "priceToBook\n",
      "lastFiscalYearEnd\n",
      "nextFiscalYearEnd\n",
      "mostRecentQuarter\n",
      "netIncomeToCommon\n",
      "trailingEps\n",
      "forwardEps\n",
      "pegRatio\n",
      "lastSplitFactor\n",
      "lastSplitDate\n",
      "enterpriseToRevenue\n",
      "enterpriseToEbitda\n",
      "52WeekChange\n",
      "SandP52WeekChange\n",
      "exchange\n",
      "quoteType\n",
      "underlyingSymbol\n",
      "shortName\n",
      "longName\n",
      "firstTradeDateEpochUtc\n",
      "timeZoneFullName\n",
      "timeZoneShortName\n",
      "uuid\n",
      "messageBoardId\n",
      "gmtOffSetMilliseconds\n",
      "currentPrice\n",
      "targetHighPrice\n",
      "targetLowPrice\n",
      "targetMeanPrice\n",
      "targetMedianPrice\n",
      "recommendationMean\n",
      "recommendationKey\n",
      "numberOfAnalystOpinions\n",
      "totalCash\n",
      "totalCashPerShare\n",
      "ebitda\n",
      "totalDebt\n",
      "quickRatio\n",
      "currentRatio\n",
      "totalRevenue\n",
      "debtToEquity\n",
      "revenuePerShare\n",
      "returnOnAssets\n",
      "returnOnEquity\n",
      "freeCashflow\n",
      "operatingCashflow\n",
      "revenueGrowth\n",
      "grossMargins\n",
      "ebitdaMargins\n",
      "operatingMargins\n",
      "financialCurrency\n",
      "trailingPegRatio\n"
     ]
    }
   ],
   "source": [
    "for col in infos.columns:\n",
    "    print(col)"
   ]
  },
  {
   "cell_type": "code",
   "execution_count": 9,
   "id": "c528358f",
   "metadata": {},
   "outputs": [
    {
     "data": {
      "text/html": [
       "<div>\n",
       "<style scoped>\n",
       "    .dataframe tbody tr th:only-of-type {\n",
       "        vertical-align: middle;\n",
       "    }\n",
       "\n",
       "    .dataframe tbody tr th {\n",
       "        vertical-align: top;\n",
       "    }\n",
       "\n",
       "    .dataframe thead th {\n",
       "        text-align: right;\n",
       "    }\n",
       "</style>\n",
       "<table border=\"1\" class=\"dataframe\">\n",
       "  <thead>\n",
       "    <tr style=\"text-align: right;\">\n",
       "      <th></th>\n",
       "      <th>industry</th>\n",
       "      <th>beta</th>\n",
       "      <th>trailingPE</th>\n",
       "      <th>forwardPE</th>\n",
       "      <th>marketCap</th>\n",
       "      <th>priceToSalesTrailing12Months</th>\n",
       "      <th>priceToBook</th>\n",
       "      <th>forwardEps</th>\n",
       "      <th>pegRatio</th>\n",
       "      <th>totalCash</th>\n",
       "      <th>ebitda</th>\n",
       "      <th>totalDebt</th>\n",
       "      <th>quickRatio</th>\n",
       "      <th>currentRatio</th>\n",
       "      <th>debtToEquity</th>\n",
       "      <th>returnOnEquity</th>\n",
       "      <th>freeCashflow</th>\n",
       "      <th>operatingCashflow</th>\n",
       "    </tr>\n",
       "    <tr>\n",
       "      <th>symbol</th>\n",
       "      <th></th>\n",
       "      <th></th>\n",
       "      <th></th>\n",
       "      <th></th>\n",
       "      <th></th>\n",
       "      <th></th>\n",
       "      <th></th>\n",
       "      <th></th>\n",
       "      <th></th>\n",
       "      <th></th>\n",
       "      <th></th>\n",
       "      <th></th>\n",
       "      <th></th>\n",
       "      <th></th>\n",
       "      <th></th>\n",
       "      <th></th>\n",
       "      <th></th>\n",
       "      <th></th>\n",
       "    </tr>\n",
       "  </thead>\n",
       "  <tbody>\n",
       "    <tr>\n",
       "      <th>MARA</th>\n",
       "      <td>Capital Markets</td>\n",
       "      <td>5.403</td>\n",
       "      <td>18.613209</td>\n",
       "      <td>36.537033</td>\n",
       "      <td>5280537088</td>\n",
       "      <td>13.626911</td>\n",
       "      <td>2.964688</td>\n",
       "      <td>0.54</td>\n",
       "      <td>0.67</td>\n",
       "      <td>357312992</td>\n",
       "      <td>400424000</td>\n",
       "      <td>326132000</td>\n",
       "      <td>10.646</td>\n",
       "      <td>30.505</td>\n",
       "      <td>20.182</td>\n",
       "      <td>0.26093</td>\n",
       "      <td>-330427360</td>\n",
       "      <td>-315651008</td>\n",
       "    </tr>\n",
       "  </tbody>\n",
       "</table>\n",
       "</div>"
      ],
      "text/plain": [
       "               industry   beta  trailingPE  forwardPE   marketCap  \\\n",
       "symbol                                                              \n",
       "MARA    Capital Markets  5.403   18.613209  36.537033  5280537088   \n",
       "\n",
       "        priceToSalesTrailing12Months  priceToBook  forwardEps  pegRatio  \\\n",
       "symbol                                                                    \n",
       "MARA                       13.626911     2.964688        0.54      0.67   \n",
       "\n",
       "        totalCash     ebitda  totalDebt  quickRatio  currentRatio  \\\n",
       "symbol                                                              \n",
       "MARA    357312992  400424000  326132000      10.646        30.505   \n",
       "\n",
       "        debtToEquity  returnOnEquity  freeCashflow  operatingCashflow  \n",
       "symbol                                                                 \n",
       "MARA          20.182         0.26093    -330427360         -315651008  "
      ]
     },
     "execution_count": 9,
     "metadata": {},
     "output_type": "execute_result"
    }
   ],
   "source": [
    "fundamental = ['industry','operatingCashflow','ebitda','freeCashflow','pegRatio','earningsGrowth', 'currentRatio','debtToEquity','returnOnEquity','totalCash','totalDebt','quickRatio','beta3Year','beta','forwardEps','priceToBook','priceToSalesTrailing12Months','forwardPE','dividendRate','trailingPE','marketCap','dividendYield']\n",
    "#lets filter out the fundamental data \n",
    "fund_info = infos[infos.columns[infos.columns.isin(fundamental)]]\n",
    "fund_info"
   ]
  },
  {
   "cell_type": "code",
   "execution_count": 36,
   "id": "31a6b35e",
   "metadata": {},
   "outputs": [
    {
     "name": "stdout",
     "output_type": "stream",
     "text": [
      "industry            : Capital Markets\n",
      "beta                : 5.403\n",
      "trailingPE          : 18.613209\n",
      "forwardPE           : 36.537033\n",
      "marketCap           : 5280537088\n",
      "priceToSalesTrailing12Months: 13.626911\n",
      "priceToBook         : 2.964688\n",
      "forwardEps          : 0.54\n",
      "pegRatio            : 0.67\n",
      "totalCash           : 357312992\n",
      "ebitda              : 400424000\n",
      "totalDebt           : 326132000\n",
      "quickRatio          : 10.646\n",
      "currentRatio        : 30.505\n",
      "debtToEquity        : 20.182\n",
      "returnOnEquity      : 0.26093\n",
      "freeCashflow        : -330427360\n",
      "operatingCashflow   : -315651008\n"
     ]
    }
   ],
   "source": [
    "fund_info.iloc[0].to_dict()\n",
    "\n",
    "for key in fund_info.iloc[0].keys():\n",
    "    print(f'{key:20s}: {fund_info.iloc[0][key]}')"
   ]
  },
  {
   "cell_type": "markdown",
   "id": "5a2e8a8f",
   "metadata": {},
   "source": [
    "Now we are ready to compare stocks in DOW JONES based on their fundamental data."
   ]
  },
  {
   "cell_type": "code",
   "execution_count": 10,
   "id": "f1259417",
   "metadata": {},
   "outputs": [
    {
     "data": {
      "image/png": "[encoded data removed]",
      "text/plain": [
       "<Figure size 1600x1000 with 1 Axes>"
      ]
     },
     "metadata": {},
     "output_type": "display_data"
    }
   ],
   "source": [
    "#First let plot out the companies with the biggest market cap\n",
    "plt.figure(figsize=(16,10))\n",
    "plt.bar(fund_info.index,fund_info['marketCap'])\n",
    "plt.xticks(rotation = 90)\n",
    "plt.show()"
   ]
  },
  {
   "cell_type": "code",
   "execution_count": 11,
   "id": "29b536a5",
   "metadata": {},
   "outputs": [
    {
     "data": {
      "text/plain": [
       "symbol\n",
       "MARA    5280537088\n",
       "Name: marketCap, dtype: int64"
      ]
     },
     "execution_count": 11,
     "metadata": {},
     "output_type": "execute_result"
    }
   ],
   "source": [
    "fund_info['marketCap'].nlargest(10)"
   ]
  },
  {
   "cell_type": "markdown",
   "id": "9dd7cb18",
   "metadata": {},
   "source": [
    "As suspected technology stocks are the top 2 then healthcare dominates which is also not suprising given the past few years."
   ]
  },
  {
   "cell_type": "code",
   "execution_count": 12,
   "id": "e9022943",
   "metadata": {},
   "outputs": [
    {
     "data": {
      "image/png": "[encoded data removed]",
      "text/plain": [
       "<Figure size 1600x1000 with 1 Axes>"
      ]
     },
     "metadata": {},
     "output_type": "display_data"
    }
   ],
   "source": [
    "##First let plot out the companies with the biggest ebita\n",
    "plt.figure(figsize=(16,10))\n",
    "plt.bar(fund_info.index,fund_info['ebitda'])\n",
    "plt.xticks(rotation = 90)\n",
    "plt.show()"
   ]
  },
  {
   "cell_type": "code",
   "execution_count": 13,
   "id": "6d3a83fd",
   "metadata": {},
   "outputs": [
    {
     "data": {
      "image/png": "[encoded data removed]",
      "text/plain": [
       "<Figure size 1600x1000 with 1 Axes>"
      ]
     },
     "metadata": {},
     "output_type": "display_data"
    }
   ],
   "source": [
    "##First let plot out the companies with the biggest pegratio\n",
    "plt.figure(figsize=(16,10))\n",
    "plt.bar(fund_info.index,fund_info['pegRatio'])\n",
    "plt.xticks(rotation = 90)\n",
    "plt.show()"
   ]
  },
  {
   "cell_type": "code",
   "execution_count": 14,
   "id": "7eafdbce",
   "metadata": {},
   "outputs": [
    {
     "data": {
      "image/png": "[encoded data removed]",
      "text/plain": [
       "<Figure size 1600x1000 with 1 Axes>"
      ]
     },
     "metadata": {},
     "output_type": "display_data"
    }
   ],
   "source": [
    "##First let plot out the companies with the biggest debt to equity ratio\n",
    "plt.figure(figsize=(16,10))\n",
    "plt.bar(fund_info.index,fund_info['debtToEquity'])\n",
    "plt.xticks(rotation = 90)\n",
    "plt.show()"
   ]
  },
  {
   "cell_type": "markdown",
   "id": "9bb5a7ce",
   "metadata": {},
   "source": [
    "Woow Amgen is what you call being leveraged to its tits. Hope this is a data glitch rather than actual leverage."
   ]
  },
  {
   "cell_type": "code",
   "execution_count": 15,
   "id": "4b0fb817",
   "metadata": {},
   "outputs": [
    {
     "data": {
      "image/png": "[encoded data removed]",
      "text/plain": [
       "<Figure size 1600x1000 with 1 Axes>"
      ]
     },
     "metadata": {},
     "output_type": "display_data"
    }
   ],
   "source": [
    "##First let plot out the companies with the biggest price to book ratio\n",
    "plt.figure(figsize=(16,10))\n",
    "plt.bar(fund_info.index,fund_info['priceToBook'])\n",
    "plt.xticks(rotation = 90)\n",
    "plt.show()"
   ]
  },
  {
   "cell_type": "code",
   "execution_count": 16,
   "id": "05dc5d8b",
   "metadata": {},
   "outputs": [
    {
     "data": {
      "image/png": "[encoded data removed]",
      "text/plain": [
       "<Figure size 1600x1000 with 1 Axes>"
      ]
     },
     "metadata": {},
     "output_type": "display_data"
    }
   ],
   "source": [
    "\n",
    "##First let plot out the companies with the biggest price to book ratio\n",
    "plt.figure(figsize=(16,10))\n",
    "plt.bar(fund_info.index,fund_info['freeCashflow'])\n",
    "plt.xticks(rotation = 90)\n",
    "plt.show()"
   ]
  },
  {
   "cell_type": "code",
   "execution_count": 17,
   "id": "5acf10f6",
   "metadata": {},
   "outputs": [
    {
     "data": {
      "image/png": "[encoded data removed]",
      "text/plain": [
       "<Figure size 1600x1000 with 1 Axes>"
      ]
     },
     "metadata": {},
     "output_type": "display_data"
    }
   ],
   "source": [
    "##First let plot out the companies with the biggest price to book ratio\n",
    "plt.figure(figsize=(16,10))\n",
    "plt.bar(fund_info.index,fund_info['beta'])\n",
    "plt.xticks(rotation = 90)\n",
    "plt.show()"
   ]
  },
  {
   "cell_type": "code",
   "execution_count": 18,
   "id": "3172334c",
   "metadata": {},
   "outputs": [
    {
     "data": {
      "image/png": "[encoded data removed]",
      "text/plain": [
       "<Figure size 1600x1000 with 1 Axes>"
      ]
     },
     "metadata": {},
     "output_type": "display_data"
    }
   ],
   "source": [
    "\n",
    "plt.figure(figsize=(16,10))\n",
    "plt.bar(fund_info.index,fund_info['forwardPE'])\n",
    "plt.xticks(rotation = 90)\n",
    "plt.show()"
   ]
  },
  {
   "cell_type": "markdown",
   "id": "06f8758a",
   "metadata": {},
   "source": [
    "## Balance sheet analysis and scoring stocks based on Piotroski F-score.\n",
    "\n",
    "### What Is the Piotroski Score?\n",
    "\n",
    "The Piotroski score is a discrete score between zero and nine that reflects nine criteria used to determine the strength of a firm's financial position. The Piotroski score is used to determine the best value stocks, with nine being the best and zero being the worst."
   ]
  },
  {
   "cell_type": "code",
   "execution_count": 19,
   "id": "132db936",
   "metadata": {},
   "outputs": [],
   "source": [
    "import yahoo_fin.stock_info as yfi\n",
    "import time\n",
    "# import yahoofinance as yf"
   ]
  },
  {
   "cell_type": "code",
   "execution_count": 20,
   "id": "55dece76",
   "metadata": {},
   "outputs": [],
   "source": [
    "balance_sheet = []\n",
    "income_statement = []\n",
    "cfs = []\n",
    "years = []\n",
    "profitability_score = 0\n",
    "leverage_score = 0\n",
    "operating_efficiency_score = 0\n",
    "pe_ratio = 0"
   ]
  },
  {
   "cell_type": "code",
   "execution_count": 21,
   "id": "e09084fd",
   "metadata": {},
   "outputs": [],
   "source": [
    "summary = pd.DataFrame(columns = ['Ticker', 'PE ratio',\n",
    "                                  'Profitability', 'Leverage',\n",
    "                                  'Operating eficiency'])"
   ]
  },
  {
   "cell_type": "markdown",
   "id": "6b0cf626",
   "metadata": {},
   "source": [
    "### Understanding the Piotroski Score\n",
    "\n",
    "The Piotroski score is broken down into the following categories:\n",
    "- Profitability\n",
    "- Leverage, liquidity, and source of funds\n",
    "- Operating efficiency\n",
    "\n",
    "Profitability Criteria Include\n",
    "- Positive net income (1 point)\n",
    "- Positive return on assets (ROA) in the current year (1 point)\n",
    "- Positive operating cash flow in the current year (1 point)\n",
    "- Cash flow from operations being greater than net Income (quality of earnings) (1 point)\n",
    "\n",
    "Leverage, Liquidity, and Source of Funds Criteria Include:\n",
    "- Lower amount of long term debt in the current period, compared to the previous year (decreased leverage) (1 point)\n",
    "- Higher current ratio this year compared to the previous year (more liquidity) (1 point)\n",
    "- No new shares were issued in the last year (lack of dilution) (1 point).\n",
    "\n",
    "Operating Efficiency Criteria Include:\n",
    "- A higher gross margin compared to the previous year (1 point)\n",
    "- A higher asset turnover ratio compared to the previous year (1 point)"
   ]
  },
  {
   "cell_type": "code",
   "execution_count": 32,
   "id": "dd9a2777",
   "metadata": {},
   "outputs": [],
   "source": [
    "def get_data(ticker):\n",
    "    global balance_sheet\n",
    "    global income_statement\n",
    "    global cfs\n",
    "    global years\n",
    "    ticker = yf.Ticker(ticker)\n",
    "    balance_sheet = ticker.balance_sheet\n",
    "    income_statement = ticker.income_stmt\n",
    "    cfs = ticker.cashflow\n",
    "    years = balance_sheet.columns\n",
    "\n",
    "def pe(ticker):\n",
    "    global pe_ratio\n",
    "    pe_ratio = -4.57\n",
    "    if pe_ratio != pe_ratio: #Check if NaN\n",
    "        pe_ratio = 0   \n",
    "\n",
    "def profitability():\n",
    "    global profitability_score\n",
    "    #Scores #1 and 2 - net income\n",
    "    net_income = income_statement[years[0]]['Net Income']\n",
    "    net_income_py = income_statement[years[1]]['Net Income']\n",
    "    ni_score = 1 if net_income > 0 else 0\n",
    "    ni_score_2 = 1 if net_income > net_income_py else 0\n",
    "\n",
    "    #Score #3 - operating cash flow\n",
    "    op_cf = cfs[years[0]]['Operating Cash Flow']\n",
    "    op_cf_score = 1 if op_cf > 0 else 0\n",
    "\n",
    "    #Score #4 - change in RoA\n",
    "    avg_assets = (balance_sheet[years[0]]['Total Assets']\n",
    "                    + balance_sheet[years[1]]['Total Assets']) / 2\n",
    "    avg_assets_py = (balance_sheet[years[1]]['Total Assets']\n",
    "                    + balance_sheet[years[2]]['Total Assets']) / 2\n",
    "    RoA = net_income / avg_assets\n",
    "    RoA_py = net_income_py / avg_assets_py\n",
    "    RoA_score = 1 if RoA > RoA_py else 0\n",
    "\n",
    "    #Score #5 - Accruals\n",
    "    total_assets = balance_sheet[years[0]]['Total Assets']\n",
    "    accruals = op_cf / total_assets - RoA\n",
    "    ac_score = 1 if accruals > 0 else 0\n",
    "\n",
    "    profitability_score = ni_score + ni_score_2 + op_cf_score + RoA_score + ac_score\n",
    "\n",
    "def leverage():\n",
    "    global leverage_score\n",
    "    #Score #6 - long-term debt ratio\n",
    "    try:\n",
    "        lt_debt = balance_sheet[years[0]]['Long Term Debt']\n",
    "        total_assets = balance_sheet[years[0]]['Total Assets']\n",
    "        debt_ratio = lt_debt / total_assets\n",
    "        debt_ratio_score = 1 if debt_ratio < 0.4 else 0\n",
    "    except:\n",
    "        debt_ratio_score = 1\n",
    "\n",
    "    #Score #7 - Current ratio\n",
    "    current_assets = balance_sheet[years[0]]['Current Assets']\n",
    "    current_liab = balance_sheet[years[0]]['Current Liabilities']\n",
    "    current_ratio = current_assets / current_liab\n",
    "    current_ratio_score = 1 if current_ratio > 1 else 0\n",
    "\n",
    "    leverage_score = debt_ratio_score + current_ratio_score\n",
    "\n",
    "def operating_efficiency():\n",
    "    global operating_efficiency_score\n",
    "    #Score #8 - Gross margin\n",
    "    gp = income_statement[years[0]]['Gross Profit']\n",
    "    gp_py = income_statement[years[1]]['Gross Profit']\n",
    "    revenue = income_statement[years[0]]['Total Revenue']\n",
    "    revenue_py = income_statement[years[1]]['Total Revenue']\n",
    "    gm = gp / revenue\n",
    "    gm_py = gp_py / revenue_py\n",
    "    gm_score = 1 if gm > gm_py else 0\n",
    "    \n",
    "    #Score #9 - Asset turnover\n",
    "    avg_assets = (balance_sheet[years[0]]['Total Assets']\n",
    "                    + balance_sheet[years[1]]['Total Assets']) / 2\n",
    "    avg_assets_py = (balance_sheet[years[1]]['Total Assets']\n",
    "                    + balance_sheet[years[2]]['Total Assets']) / 2\n",
    "\n",
    "    at = revenue / avg_assets #at = asset turnover\n",
    "    at_py = revenue_py / avg_assets_py\n",
    "    at_score = 1 if at > at_py else 0\n",
    "\n",
    "    operating_efficiency_score = gm_score + at_score"
   ]
  },
  {
   "cell_type": "code",
   "execution_count": 33,
   "id": "4dd0b387",
   "metadata": {},
   "outputs": [
    {
     "data": {
      "text/plain": [
       "{'Ticker': 'MARA',\n",
       " 'PE ratio': -4.57,\n",
       " 'Profitability': 3,\n",
       " 'Leverage': 2,\n",
       " 'Operating eficiency': 2,\n",
       " 'Total score': 7}"
      ]
     },
     "execution_count": 33,
     "metadata": {},
     "output_type": "execute_result"
    }
   ],
   "source": [
    "# for ticker in tickers:\n",
    "    # try:\n",
    "ticker = \"MARA\"\n",
    "get_data(ticker)\n",
    "pe(ticker)\n",
    "profitability()\n",
    "leverage()\n",
    "operating_efficiency()\n",
    "summary = {'Ticker': ticker,\n",
    "            'PE ratio': -4.57,\n",
    "            'Profitability': profitability_score,\n",
    "            'Leverage': leverage_score,\n",
    "            'Operating eficiency': operating_efficiency_score}\n",
    "    # except Exception as e:\n",
    "    #     print(ticker + ': Something went wrong.')\n",
    "    #     print(str(e))\n",
    "summary['Total score'] = summary['Profitability'] + summary['Leverage'] + summary['Operating eficiency']\n",
    "summary"
   ]
  },
  {
   "cell_type": "code",
   "execution_count": 30,
   "id": "7a17e826",
   "metadata": {},
   "outputs": [
    {
     "data": {
      "text/plain": [
       "{'Ticker': 'MARA',\n",
       " 'PE ratio': 0,\n",
       " 'Profitability': 3,\n",
       " 'Leverage': 2,\n",
       " 'Operating eficiency': 2,\n",
       " 'Total score': 7}"
      ]
     },
     "execution_count": 30,
     "metadata": {},
     "output_type": "execute_result"
    }
   ],
   "source": [
    "summary"
   ]
  },
  {
   "cell_type": "code",
   "execution_count": null,
   "id": "97a2f95d",
   "metadata": {},
   "outputs": [],
   "source": []
  }
 ],
 "metadata": {
  "kernelspec": {
   "display_name": "Python 3 (ipykernel)",
   "language": "python",
   "name": "python3"
  },
  "language_info": {
   "codemirror_mode": {
    "name": "ipython",
    "version": 3
   },
   "file_extension": ".py",
   "mimetype": "text/x-python",
   "name": "python",
   "nbconvert_exporter": "python",
   "pygments_lexer": "ipython3",
   "version": "3.10.1"
  },
  "latex_envs": {
   "LaTeX_envs_menu_present": true,
   "autoclose": false,
   "autocomplete": true,
   "bibliofile": "biblio.bib",
   "cite_by": "apalike",
   "current_citInitial": 1,
   "eqLabelWithNumbers": true,
   "eqNumInitial": 1,
   "hotkeys": {
    "equation": "Ctrl-E",
    "itemize": "Ctrl-I"
   },
   "labels_anchors": false,
   "latex_user_defs": false,
   "report_style_numbering": false,
   "user_envs_cfg": false
  },
  "varInspector": {
   "cols": {
    "lenName": 16,
    "lenType": 16,
    "lenVar": 40
   },
   "kernels_config": {
    "python": {
     "delete_cmd_postfix": "",
     "delete_cmd_prefix": "del ",
     "library": "var_list.py",
     "varRefreshCmd": "print(var_dic_list())"
    },
    "r": {
     "delete_cmd_postfix": ") ",
     "delete_cmd_prefix": "rm(",
     "library": "var_list.r",
     "varRefreshCmd": "cat(var_dic_list()) "
    }
   },
   "types_to_exclude": [
    "module",
    "function",
    "builtin_function_or_method",
    "instance",
    "_Feature"
   ],
   "window_display": false
  }
 },
 "nbformat": 4,
 "nbformat_minor": 5
}
